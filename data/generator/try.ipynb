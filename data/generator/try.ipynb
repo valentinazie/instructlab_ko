{
 "cells": [
  {
   "cell_type": "code",
   "execution_count": 1,
   "metadata": {},
   "outputs": [],
   "source": [
    "raw_instructions=['* Task \\n', 'Instruction', '이 문서에 대한 주요 내용을 요약하세요.\\n', 'Input', '<noinstruction>\\n', 'Output', '**\\n이 문서는 KB국민카드의 「KB국민 학생증 체크카드」신규 고객 대상 웰컴쿠폰 이벤트 안내입니다. 이벤트 기간은 2024.03 ~ 2024.06이고, 대상 고객은 기간 내 KB국민 학생증 체크카드 신규 발급 고객입니다. 행사 내용은 5천원 쿠폰 100원에 겟! 발급 후 7일 뒤 자동 발송되는 URL에 접속하여 5천원 모바일 쿠폰 100원에 구매할 수 있습니다.\\n\\n* Task \\n', 'Instruction', '이벤트의 주요 혜택을 설명하세요.\\n', 'Input', '<noinstruction>\\n', 'Output', '**\\n이벤트의 주요 혜택은 5천원 쿠폰 100원에 겟! 발급 후 7일 뒤 자동 발송되는 URL에 접속하여 5천원 모바일 쿠폰 100원에 구매할 수 있습니다. 또한, 구매 후 모바일 쿠폰 즉시 지급됩니다.\\n\\n* Task \\n', 'Instruction', '이벤트의 대상 고객을 설명하세요.\\n', 'Input', '<noinstruction>\\n', 'Output', '**\\n이벤트의 대상 고객은 기간 내 KB국민 학생증 체크카드 신규 발급 고객입니다.\\n\\n* Task \\n', 'Instruction', '이벤트의 기간을 설명하세요.\\n', 'Input', '<noinstruction>\\n', 'Output', '**\\n이벤트의 기간은 2024.03 ~ 2024.06입니다.\\n\\n* Task \\n', 'Instruction', '이벤트의 세부 내용을 설명하세요.\\n', 'Input', '<noinstruction>\\n', 'Output', '**\\n이벤트의 세부 내용은 행사명이 「KB국민 학생증 체크카드 Welcome 이벤트!」이고, 행사 기간은 2024.03 ~ 2024.06입니다. 대상 고객은 기간 내 KB국민 학생증 체크카드 신규 발급 고객이고, 대상 카드는 KB국민 학생증 체크카드입니다. 행사 내용은 5천원 쿠폰 100원에 겟! 발급 후 7일 뒤 자동 발송되는 URL에 접속하여 5천원 모바일 쿠폰 100원에 구매할 수 있습니다.']"
   ]
  },
  {
   "cell_type": "code",
   "execution_count": null,
   "metadata": {},
   "outputs": [],
   "source": []
  }
 ],
 "metadata": {
  "kernelspec": {
   "display_name": "Valentina_Virtual_Env",
   "language": "python",
   "name": "python3"
  },
  "language_info": {
   "codemirror_mode": {
    "name": "ipython",
    "version": 3
   },
   "file_extension": ".py",
   "mimetype": "text/x-python",
   "name": "python",
   "nbconvert_exporter": "python",
   "pygments_lexer": "ipython3",
   "version": "3.11.6"
  }
 },
 "nbformat": 4,
 "nbformat_minor": 2
}
